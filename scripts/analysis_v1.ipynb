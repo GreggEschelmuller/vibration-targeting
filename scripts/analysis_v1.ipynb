{
 "cells": [
  {
   "cell_type": "code",
   "execution_count": 1,
   "metadata": {
    "tags": []
   },
   "outputs": [
    {
     "name": "stdout",
     "output_type": "stream",
     "text": [
      "<class 'pandas.core.frame.DataFrame'>\n",
      "RangeIndex: 96 entries, 0 to 95\n",
      "Data columns (total 19 columns):\n",
      " #   Column              Non-Null Count  Dtype  \n",
      "---  ------              --------------  -----  \n",
      " 0   trial_num           96 non-null     int64  \n",
      " 1   move_times          96 non-null     float64\n",
      " 2   wrist_x_end         96 non-null     float64\n",
      " 3   wrist_y_end         96 non-null     float64\n",
      " 4   curs_x_end          96 non-null     float64\n",
      " 5   curs_y_end          96 non-null     float64\n",
      " 6   end_angles          96 non-null     float64\n",
      " 7   block               96 non-null     object \n",
      " 8   target_pos          96 non-null     int64  \n",
      " 9   target_amp          96 non-null     int64  \n",
      " 10  full_feedback       96 non-null     int64  \n",
      " 11  terminal_feedback   96 non-null     int64  \n",
      " 12  rotation_direction  96 non-null     int64  \n",
      " 13  rotation            96 non-null     int64  \n",
      " 14  rotation_angle      96 non-null     int64  \n",
      " 15  clamp               96 non-null     int64  \n",
      " 16  clamp_angle         96 non-null     int64  \n",
      " 17  vibration           96 non-null     int64  \n",
      " 18  trial_type          96 non-null     int64  \n",
      "dtypes: float64(6), int64(12), object(1)\n",
      "memory usage: 14.4+ KB\n"
     ]
    }
   ],
   "source": [
    "import pandas as pd\n",
    "import seaborn as sns\n",
    "import matplotlib.pyplot as plt\n",
    "\n",
    "data = pd.read_csv(\"..\\data\\P99\\participant_99_Testing.csv\")\n",
    "data.info()"
   ]
  },
  {
   "cell_type": "code",
   "execution_count": 2,
   "metadata": {
    "tags": []
   },
   "outputs": [
    {
     "name": "stdout",
     "output_type": "stream",
     "text": [
      "           count      mean       std       min       25%       50%       75%  \\\n",
      "vibration                                                                      \n",
      "0           20.0  2.257445  4.015440 -4.629348 -1.229821  2.484103  4.383928   \n",
      "1           20.0  3.022095  5.148827 -7.338444  0.485239  3.009067  5.731352   \n",
      "2           20.0  3.496558  4.800989 -4.769997 -0.570822  3.472927  7.035776   \n",
      "3           20.0  2.127180  4.435204 -4.966674 -1.324826  1.387408  5.122341   \n",
      "\n",
      "                 max  \n",
      "vibration             \n",
      "0          12.363160  \n",
      "1          16.328855  \n",
      "2          13.249244  \n",
      "3           9.531697  \n"
     ]
    }
   ],
   "source": [
    "data['error'] = data['target_pos'] - data['end_angles']\n",
    "\n",
    "no_feedback_data = data[data['full_feedback'] == 0][['error', 'vibration', 'target_pos']]\n",
    "\n",
    "\n",
    "print(no_feedback_data.groupby('vibration')['error'].describe())"
   ]
  },
  {
   "cell_type": "code",
   "execution_count": 14,
   "metadata": {
    "tags": []
   },
   "outputs": [
    {
     "ename": "SyntaxError",
     "evalue": "invalid syntax. Perhaps you forgot a comma? (2785933142.py, line 5)",
     "output_type": "error",
     "traceback": [
      "\u001b[1;36m  Cell \u001b[1;32mIn[14], line 5\u001b[1;36m\u001b[0m\n\u001b[1;33m    dodge=True\u001b[0m\n\u001b[1;37m          ^\u001b[0m\n\u001b[1;31mSyntaxError\u001b[0m\u001b[1;31m:\u001b[0m invalid syntax. Perhaps you forgot a comma?\n"
     ]
    }
   ],
   "source": [
    "fig = sns.pointplot(data=data,\n",
    "            x='vibration',\n",
    "            y='error',\n",
    "            hue='target_pos',\n",
    "            dodge=True\n",
    "            join=False)\n",
    "fig.set_xticklabels([\"No Vibration\", \"Flexor Vibration\", \"Extensor Vibration\", \"Dual Vibration\"])\n",
    "plt.show()\n",
    "\n",
    "\n"
   ]
  }
 ],
 "metadata": {
  "kernelspec": {
   "display_name": "Python 3 (ipykernel)",
   "language": "python",
   "name": "python3"
  },
  "language_info": {
   "codemirror_mode": {
    "name": "ipython",
    "version": 3
   },
   "file_extension": ".py",
   "mimetype": "text/x-python",
   "name": "python",
   "nbconvert_exporter": "python",
   "pygments_lexer": "ipython3",
   "version": "3.11.4"
  }
 },
 "nbformat": 4,
 "nbformat_minor": 4
}
